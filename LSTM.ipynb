{
 "cells": [
  {
   "cell_type": "markdown",
   "metadata": {
    "_cell_guid": "179c2ccd-823a-9576-f8d4-552dbbde3483",
    "_uuid": "88aea26b1863926d761e091cdf30fb2466dcaa91"
   },
   "source": [
    "# 07/05/2017 Update\n",
    "\n",
    "This project is based on my [GitHub link][1] and my research is based on  [this paper][2]. \n",
    "\n",
    "Instead of using Echo state network which was used in the Stanford research paper, we are going to use LSTM which is more advanced in training the neural network.\n",
    "\n",
    "More updates will be provided to accommodate the dataset in this Kaggle challenge.  You can simply adjust it to choose your features and window for data.\n",
    "\n",
    "Thank you all!\n",
    "\n",
    "# Import module first\n",
    "\n",
    "\n",
    "  [1]: https://github.com/BenjiKCF/Neural-Network-with-Financial-Time-Series-Data\n",
    "  [2]: http://cs229.stanford.edu/proj2012/BernalFokPidaparthi-FinancialMarketTimeSeriesPredictionwithRecurrentNeural.pdf"
   ]
  },
  {
   "cell_type": "code",
   "execution_count": 88,
   "metadata": {
    "_cell_guid": "78d1f84f-aed9-747b-154a-f7fe6c7bb8c9",
    "_uuid": "813acb8e89d97519abdc648f3648fceae6f4210a"
   },
   "outputs": [],
   "source": [
    "import numpy as np\n",
    "import matplotlib.pyplot as plt\n",
    "import pandas as pd\n",
    "from pandas import datetime\n",
    "import math, time\n",
    "import itertools\n",
    "from sklearn import preprocessing\n",
    "import datetime\n",
    "from operator import itemgetter\n",
    "from sklearn.metrics import mean_squared_error\n",
    "from math import sqrt\n",
    "from keras.models import Sequential\n",
    "from keras.layers.core import Dense, Dropout, Activation\n",
    "from keras.layers.recurrent import LSTM\n",
    "from keras.models import load_model\n",
    "import keras\n",
    "import h5py\n",
    "import requests\n",
    "import os\n",
    "\n",
    "from scipy.optimize import curve_fit"
   ]
  },
  {
   "cell_type": "markdown",
   "metadata": {
    "_cell_guid": "02cc6c64-3161-cf2d-4298-c700c2eee594",
    "_uuid": "8482eec43c6c0ef6c090baff8c4751a9b390ca2a"
   },
   "source": [
    "# Read data and transform them to pandas dataframe"
   ]
  },
  {
   "cell_type": "code",
   "execution_count": 2,
   "metadata": {},
   "outputs": [],
   "source": [
    "WINDOW_SIZE = 10"
   ]
  },
  {
   "cell_type": "markdown",
   "metadata": {},
   "source": [
    "### Load Data"
   ]
  },
  {
   "cell_type": "code",
   "execution_count": 66,
   "metadata": {
    "_cell_guid": "e10138dc-b1a1-fd9e-64c8-3bbf3b1844a6",
    "_uuid": "59693c7b5c6d9977f32d08ecb6d98e45c401b506"
   },
   "outputs": [],
   "source": [
    "df_pm1 = pd.read_csv(\"data/pm1_output_Taft Ave._2015.csv\", index_col = 0)\n",
    "df_pm1 = df_pm1.drop(['Actual'], axis=1)\n",
    "\n",
    "df_pm2 = pd.read_csv(\"data/pm2_output_Taft Ave._2015.csv\", index_col = 0)\n",
    "df_pm2 = df_pm2.drop(['Actual'], axis=1)\n",
    "\n",
    "# Converting the index as date\n",
    "df_pm1.index = pd.to_datetime(df_pm1.index)\n",
    "df_pm2.index = pd.to_datetime(df_pm2.index)"
   ]
  },
  {
   "cell_type": "code",
   "execution_count": 99,
   "metadata": {},
   "outputs": [
    {
     "name": "stdout",
     "output_type": "stream",
     "text": [
      "Before = 23477\n",
      "After = 23488\n"
     ]
    },
    {
     "data": {
      "text/html": [
       "<div>\n",
       "<style scoped>\n",
       "    .dataframe tbody tr th:only-of-type {\n",
       "        vertical-align: middle;\n",
       "    }\n",
       "\n",
       "    .dataframe tbody tr th {\n",
       "        vertical-align: top;\n",
       "    }\n",
       "\n",
       "    .dataframe thead th {\n",
       "        text-align: right;\n",
       "    }\n",
       "</style>\n",
       "<table border=\"1\" class=\"dataframe\">\n",
       "  <thead>\n",
       "    <tr style=\"text-align: right;\">\n",
       "      <th></th>\n",
       "      <th>Predicted</th>\n",
       "    </tr>\n",
       "    <tr>\n",
       "      <th>dt</th>\n",
       "      <th></th>\n",
       "    </tr>\n",
       "  </thead>\n",
       "  <tbody>\n",
       "    <tr>\n",
       "      <th>2015-05-04 19:15:00</th>\n",
       "      <td>0.345503</td>\n",
       "    </tr>\n",
       "    <tr>\n",
       "      <th>2015-05-04 19:30:00</th>\n",
       "      <td>0.345487</td>\n",
       "    </tr>\n",
       "    <tr>\n",
       "      <th>2015-05-04 19:45:00</th>\n",
       "      <td>0.345471</td>\n",
       "    </tr>\n",
       "    <tr>\n",
       "      <th>2015-05-04 20:00:00</th>\n",
       "      <td>0.345455</td>\n",
       "    </tr>\n",
       "    <tr>\n",
       "      <th>2015-05-04 20:15:00</th>\n",
       "      <td>0.345439</td>\n",
       "    </tr>\n",
       "  </tbody>\n",
       "</table>\n",
       "</div>"
      ],
      "text/plain": [
       "                     Predicted\n",
       "dt                            \n",
       "2015-05-04 19:15:00   0.345503\n",
       "2015-05-04 19:30:00   0.345487\n",
       "2015-05-04 19:45:00   0.345471\n",
       "2015-05-04 20:00:00   0.345455\n",
       "2015-05-04 20:15:00   0.345439"
      ]
     },
     "execution_count": 99,
     "metadata": {},
     "output_type": "execute_result"
    }
   ],
   "source": [
    "df_pm1_indent = pd.DataFrame(df_pm1)\n",
    "print('Before = ' + str(len(df_pm1_indent)))\n",
    "\n",
    "NEXT_INDEX = pd.date_range(df_pm1_indent.index[-1], periods=WINDOW_SIZE + 1, freq='15Min') + pd.Timedelta(minutes=15)\n",
    "\n",
    "for i in NEXT_INDEX:\n",
    "    df_pm1_indent.loc[i] = np.nan\n",
    "print('After = ' + str(len(df_pm1_indent)))\n",
    "\n",
    "df_pm1_indent = df_pm1_indent.shift(WINDOW_SIZE + 1)\n",
    "\n",
    "# Extrapolate values\n",
    "df_pm1_indent.interpolate(method='nearest', axis=0).ffill().bfill()\n",
    "\n",
    "# Function to curve fit to the data\n",
    "def func(x, a, b, c, d):\n",
    "    return a * (x ** 3) + b * (x ** 2) + c * x + d\n",
    "\n",
    "# Initial parameter guess, just to kick off the optimization\n",
    "guess = (0.5, 0.5, 0.5, 0.5)\n",
    "\n",
    "# Temporarily remove dates and make index numeric\n",
    "di = df_pm1_indent.index\n",
    "df_pm1_indent = df_pm1_indent.reset_index().drop('dt', 1)\n",
    "\n",
    "# Create copy of data to remove NaNs for curve fitting\n",
    "fit_df = df_pm1_indent.dropna()\n",
    "\n",
    "# Place to store function parameters for each column\n",
    "col_params = {}\n",
    "\n",
    "# Curve fit each column\n",
    "for col in fit_df.columns:\n",
    "    # Get x & y\n",
    "    x = fit_df.index.astype(float).values\n",
    "    y = fit_df[col].values\n",
    "    # Curve fit column and get curve parameters\n",
    "    params = curve_fit(func, x, y, guess)\n",
    "    # Store optimized parameters\n",
    "    col_params[col] = params[0]\n",
    "\n",
    "# Extrapolate each column\n",
    "for col in df_pm1_indent.columns:\n",
    "    # Get the index values for NaNs in the column\n",
    "    x = df_pm1_indent[pd.isnull(df[col])].index.astype(float).values\n",
    "    # Extrapolate those points with the fitted function\n",
    "    df_pm1_indent[col][x] = func(x, *col_params[col])\n",
    "\n",
    "# Put date index back\n",
    "df_pm1_indent.index = di\n",
    "\n",
    "df_pm1_indent.head()"
   ]
  },
  {
   "cell_type": "code",
   "execution_count": 109,
   "metadata": {},
   "outputs": [
    {
     "data": {
      "text/html": [
       "<div>\n",
       "<style scoped>\n",
       "    .dataframe tbody tr th:only-of-type {\n",
       "        vertical-align: middle;\n",
       "    }\n",
       "\n",
       "    .dataframe tbody tr th {\n",
       "        vertical-align: top;\n",
       "    }\n",
       "\n",
       "    .dataframe thead th {\n",
       "        text-align: right;\n",
       "    }\n",
       "</style>\n",
       "<table border=\"1\" class=\"dataframe\">\n",
       "  <thead>\n",
       "    <tr style=\"text-align: right;\">\n",
       "      <th></th>\n",
       "      <th>pm2</th>\n",
       "      <th>pm1</th>\n",
       "    </tr>\n",
       "    <tr>\n",
       "      <th>dt</th>\n",
       "      <th></th>\n",
       "      <th></th>\n",
       "    </tr>\n",
       "  </thead>\n",
       "  <tbody>\n",
       "    <tr>\n",
       "      <th>2015-05-04 19:15:00</th>\n",
       "      <td>0.220617</td>\n",
       "      <td>0.345503</td>\n",
       "    </tr>\n",
       "    <tr>\n",
       "      <th>2015-05-04 19:30:00</th>\n",
       "      <td>0.214830</td>\n",
       "      <td>0.345487</td>\n",
       "    </tr>\n",
       "    <tr>\n",
       "      <th>2015-05-04 19:45:00</th>\n",
       "      <td>0.209188</td>\n",
       "      <td>0.345471</td>\n",
       "    </tr>\n",
       "    <tr>\n",
       "      <th>2015-05-04 20:00:00</th>\n",
       "      <td>0.203692</td>\n",
       "      <td>0.345455</td>\n",
       "    </tr>\n",
       "    <tr>\n",
       "      <th>2015-05-04 20:15:00</th>\n",
       "      <td>0.198230</td>\n",
       "      <td>0.345439</td>\n",
       "    </tr>\n",
       "  </tbody>\n",
       "</table>\n",
       "</div>"
      ],
      "text/plain": [
       "                          pm2       pm1\n",
       "dt                                     \n",
       "2015-05-04 19:15:00  0.220617  0.345503\n",
       "2015-05-04 19:30:00  0.214830  0.345487\n",
       "2015-05-04 19:45:00  0.209188  0.345471\n",
       "2015-05-04 20:00:00  0.203692  0.345455\n",
       "2015-05-04 20:15:00  0.198230  0.345439"
      ]
     },
     "execution_count": 109,
     "metadata": {},
     "output_type": "execute_result"
    }
   ],
   "source": [
    "# Move label to be predicted at the end\n",
    "# Y_COL_NAME = ['statusS']\n",
    "# df_final = df[[c for c in df if c not in Y_COL_NAME] + [c for c in Y_COL_NAME if c in df]]\n",
    "# df_final.tail()\n",
    "\n",
    "df_final = df_pm2.copy()\n",
    "df_final.columns = ['pm2']\n",
    "\n",
    "df_final['pm1'] = df_pm1_indent[0:-(WINDOW_SIZE + 1)]\n",
    "df_final.head()\n",
    "\n",
    "# df_pm1_indent[0:-(WINDOW_SIZE + 1)]"
   ]
  },
  {
   "cell_type": "markdown",
   "metadata": {
    "_cell_guid": "cda2ae07-6030-3cfc-7786-8557891c0fb7",
    "_uuid": "a1cf4542b8860dd57e01a20a938799bebd629161"
   },
   "source": [
    "# Create training set and testing set"
   ]
  },
  {
   "cell_type": "code",
   "execution_count": 110,
   "metadata": {
    "_cell_guid": "27bca4c4-cd5f-23a3-2e3f-53433cf2dd96",
    "_uuid": "d6c5534a5e016f59e68fdce9ca0c5b8b474b9f30"
   },
   "outputs": [],
   "source": [
    "def load_data(stock, seq_len, split_percent):\n",
    "\n",
    "    amount_of_features = len(stock.columns) - 1\n",
    " \n",
    "    data = stock.as_matrix() \n",
    "\n",
    "    sequence_length = seq_len + 1 # index starting from 0\n",
    "    \n",
    "    x_data = []\n",
    "    y_data = []\n",
    "    \n",
    "    for index in range(len(data) - sequence_length): # maxmimum date = lastest date - sequence length\n",
    "        x_data.append(data[index: index + sequence_length, 0:amount_of_features]) # index : index + 22days\n",
    "        y_data.append(data[index: index + sequence_length, -1]) # index : index + 22days\n",
    "\n",
    "    x_data = np.array(x_data)\n",
    "    y_data = np.array(y_data)\n",
    "    row = round(split_percent * x_data.shape[0]) # 90% split\n",
    "    \n",
    "    x_train = x_data[:int(row), :-1]\n",
    "    \n",
    "    y_train = y_data[:int(row), -1]\n",
    "    \n",
    "    x_test = x_data[int(row):, :-1]\n",
    "    \n",
    "    y_test = y_data[int(row):, -1]\n",
    "    x_train = np.reshape(x_train, (x_train.shape[0], x_train.shape[1], amount_of_features))\n",
    "    \n",
    "    x_test = np.reshape(x_test, (x_test.shape[0], x_test.shape[1], amount_of_features))  \n",
    "\n",
    "    return [x_train, y_train, x_test, y_test]"
   ]
  },
  {
   "cell_type": "markdown",
   "metadata": {
    "_cell_guid": "9cbdcc33-fb39-0ee8-2604-d47c6d2e1b92",
    "_uuid": "0b3b046f823476e2106dfd50faa1a1aa500dace9"
   },
   "source": [
    "# Build the structure of model\n",
    "\n",
    "Based on my hyperparameter testing on [here][1]. I found that these parameters are the most suitable for this task.\n",
    "\n",
    "![dropout = 0.3][2]\n",
    "![epochs = 90][3]\n",
    "![LSTM 256 > LSTM 256 > Relu 32 > Linear 1][4]\n",
    "\n",
    "\n",
    "\n",
    "  [1]: https://github.com/BenjiKCF/Neural-Network-with-Financial-Time-Series-Data\n",
    "  [2]: https://github.com/BenjiKCF/Neural-Network-with-Financial-Time-Series-Data/blob/master/dropout.png?raw=true\n",
    "  [3]: https://github.com/BenjiKCF/Neural-Network-with-Financial-Time-Series-Data/blob/master/epochs2.png?raw=true\n",
    "  [4]: https://github.com/BenjiKCF/Neural-Network-with-Financial-Time-Series-Data/blob/master/neurons.png?raw=true"
   ]
  },
  {
   "cell_type": "code",
   "execution_count": 111,
   "metadata": {
    "_cell_guid": "17b0bf0c-5b76-9052-ecd3-b9f99ba3da94",
    "_uuid": "3210042e8c886023084fc023df1c030c3379cf02"
   },
   "outputs": [],
   "source": [
    "def build_model(layers):\n",
    "    d = 0.3\n",
    "    model = Sequential()\n",
    "    \n",
    "    model.add(LSTM(256, input_shape=(layers[1], layers[0]), return_sequences=True))\n",
    "    model.add(Dropout(d))\n",
    "        \n",
    "    model.add(LSTM(256, input_shape=(layers[1], layers[0]), return_sequences=False))\n",
    "    model.add(Dropout(d))\n",
    "        \n",
    "    model.add(Dense(32,kernel_initializer=\"uniform\",activation='relu'))        \n",
    "    model.add(Dense(1,kernel_initializer=\"uniform\",activation='linear'))\n",
    "    \n",
    "    # adam = keras.optimizers.Adam(decay=0.2)\n",
    "        \n",
    "    start = time.time()\n",
    "    model.compile(loss='mse',optimizer='adam', metrics=['accuracy'])\n",
    "    print(\"Compilation Time : \", time.time() - start)\n",
    "    return model"
   ]
  },
  {
   "cell_type": "markdown",
   "metadata": {
    "_cell_guid": "ca28b9e0-390f-5368-b043-00d0fc4f1b2a",
    "_uuid": "0cde0675c39af14688d28c3004741756ed2c6671"
   },
   "source": [
    "# Train the model"
   ]
  },
  {
   "cell_type": "code",
   "execution_count": 112,
   "metadata": {
    "_cell_guid": "c3c292d2-bd7b-6e7f-bbba-39b64860ba20",
    "_uuid": "925bdde5831985dc737105e3ae7092ad8c5172d3",
    "scrolled": false
   },
   "outputs": [],
   "source": [
    "PERCENT_SPLIT = 0.9\n",
    "X_train, y_train, X_test, y_test = load_data(df_final, WINDOW_SIZE, PERCENT_SPLIT)"
   ]
  },
  {
   "cell_type": "code",
   "execution_count": 113,
   "metadata": {
    "_cell_guid": "212f77cd-fdeb-40df-595b-d6de775610f8",
    "_uuid": "dd1d28811c0c7cbdc41d578790445e0ac680e8e3"
   },
   "outputs": [
    {
     "name": "stdout",
     "output_type": "stream",
     "text": [
      "Compilation Time :  0.027058839797973633\n"
     ]
    }
   ],
   "source": [
    "model = build_model([len(df_final.columns) - 1,WINDOW_SIZE ,1])"
   ]
  },
  {
   "cell_type": "code",
   "execution_count": 114,
   "metadata": {
    "_cell_guid": "886256b4-7578-d3a5-6cf0-ae394e3339ca",
    "_uuid": "0da4e017356db385b7e24dee0cb8992a4a65dbff",
    "scrolled": false
   },
   "outputs": [
    {
     "name": "stdout",
     "output_type": "stream",
     "text": [
      "Train on 19007 samples, validate on 2112 samples\n",
      "Epoch 1/10\n",
      "19007/19007 [==============================] - 42s 2ms/step - loss: 0.0611 - acc: 0.0000e+00 - val_loss: 0.0666 - val_acc: 0.0000e+00\n",
      "Epoch 2/10\n",
      "19007/19007 [==============================] - 2s 118us/step - loss: 0.0319 - acc: 0.0000e+00 - val_loss: 0.0661 - val_acc: 0.0000e+00\n",
      "Epoch 3/10\n",
      "19007/19007 [==============================] - 3s 143us/step - loss: 0.0309 - acc: 0.0000e+00 - val_loss: 0.0678 - val_acc: 0.0000e+00\n",
      "Epoch 4/10\n",
      "19007/19007 [==============================] - 2s 113us/step - loss: 0.0307 - acc: 0.0000e+00 - val_loss: 0.0700 - val_acc: 0.0000e+00\n",
      "Epoch 5/10\n",
      "19007/19007 [==============================] - 2s 113us/step - loss: 0.0306 - acc: 0.0000e+00 - val_loss: 0.0692 - val_acc: 0.0000e+00\n",
      "Epoch 6/10\n",
      "19007/19007 [==============================] - 2s 114us/step - loss: 0.0308 - acc: 0.0000e+00 - val_loss: 0.0697 - val_acc: 0.0000e+00\n",
      "Epoch 7/10\n",
      "19007/19007 [==============================] - 2s 115us/step - loss: 0.0305 - acc: 0.0000e+00 - val_loss: 0.0670 - val_acc: 0.0000e+00\n",
      "Epoch 8/10\n",
      "19007/19007 [==============================] - 2s 115us/step - loss: 0.0304 - acc: 0.0000e+00 - val_loss: 0.0651 - val_acc: 0.0000e+00\n",
      "Epoch 9/10\n",
      "19007/19007 [==============================] - 2s 115us/step - loss: 0.0305 - acc: 0.0000e+00 - val_loss: 0.0801 - val_acc: 0.0000e+00\n",
      "Epoch 10/10\n",
      "19007/19007 [==============================] - 2s 115us/step - loss: 0.0304 - acc: 0.0000e+00 - val_loss: 0.0710 - val_acc: 0.0000e+00\n"
     ]
    },
    {
     "data": {
      "text/plain": [
       "<keras.callbacks.History at 0x1189c4accf8>"
      ]
     },
     "execution_count": 114,
     "metadata": {},
     "output_type": "execute_result"
    }
   ],
   "source": [
    "model.fit(X_train,y_train,batch_size=512,epochs=10,validation_split=0.1,verbose=1)"
   ]
  },
  {
   "cell_type": "markdown",
   "metadata": {},
   "source": [
    "# Evaluate model"
   ]
  },
  {
   "cell_type": "code",
   "execution_count": 115,
   "metadata": {
    "_cell_guid": "2f638a96-8f36-7dc9-4118-f97e3df06705",
    "_uuid": "a329d3e1ce83d990ce6cdb5697dc227495c70222"
   },
   "outputs": [
    {
     "name": "stdout",
     "output_type": "stream",
     "text": [
      "Train Score: 0.03398 MSE (0.18 RMSE)\n",
      "Test Score: 0.02315 MSE (0.15 RMSE)\n"
     ]
    },
    {
     "data": {
      "text/plain": [
       "(0.03397798148087966, 0.02314968182894623)"
      ]
     },
     "execution_count": 115,
     "metadata": {},
     "output_type": "execute_result"
    }
   ],
   "source": [
    "def model_score(model, X_train, y_train, X_test, y_test):\n",
    "    trainScore = model.evaluate(X_train, y_train, verbose=0)\n",
    "    print('Train Score: %.5f MSE (%.2f RMSE)' % (trainScore[0], math.sqrt(trainScore[0])))\n",
    "\n",
    "    testScore = model.evaluate(X_test, y_test, verbose=0)\n",
    "    print('Test Score: %.5f MSE (%.2f RMSE)' % (testScore[0], math.sqrt(testScore[0])))\n",
    "    return trainScore[0], testScore[0]\n",
    "\n",
    "\n",
    "model_score(model, X_train, y_train, X_test, y_test)"
   ]
  },
  {
   "cell_type": "markdown",
   "metadata": {},
   "source": [
    "# Visualize prediction"
   ]
  },
  {
   "cell_type": "code",
   "execution_count": 116,
   "metadata": {
    "_cell_guid": "52177800-ffc4-dfd5-c915-46d98f941ca7",
    "_uuid": "25fc698ff2ad5f671e4c53407a6aa0c9df33074d"
   },
   "outputs": [
    {
     "name": "stdout",
     "output_type": "stream",
     "text": [
      "(2347, 1)\n"
     ]
    }
   ],
   "source": [
    "# print(X_test[-1])\n",
    "diff=[]\n",
    "ratio=[]\n",
    "p = model.predict(X_test)\n",
    "print (p.shape)\n",
    "# for each data index in test data\n",
    "for u in range(len(y_test)):\n",
    "    # pr = prediction day u\n",
    "    pr = p[u][0]\n",
    "    # (y_test day u / pr) - 1\n",
    "    ratio.append((y_test[u]/pr)-1)\n",
    "    diff.append(abs(y_test[u]- pr))\n",
    "    # print(u, y_test[u], pr, (y_test[u]/pr)-1, abs(y_test[u]- pr))\n",
    "    # Last day prediction\n",
    "    # print(p[-1]) "
   ]
  },
  {
   "cell_type": "code",
   "execution_count": 117,
   "metadata": {
    "_cell_guid": "99be25aa-e2c3-35fd-64a5-988200295018",
    "_uuid": "f8595608ee2953123aef46770ce4bc17e6e8b5e9"
   },
   "outputs": [
    {
     "data": {
      "image/png": "[encoded data removed]",
      "text/plain": [
       "<matplotlib.figure.Figure at 0x118f85f23c8>"
      ]
     },
     "metadata": {},
     "output_type": "display_data"
    }
   ],
   "source": [
    "import matplotlib.pyplot as plt2\n",
    "\n",
    "plt2.plot(p,color='red', label='Prediction')\n",
    "plt2.plot(y_test,color='blue', label='Actual')\n",
    "plt2.legend(loc='best')\n",
    "plt2.show()"
   ]
  },
  {
   "cell_type": "code",
   "execution_count": 118,
   "metadata": {},
   "outputs": [],
   "source": [
    "X_train_final, y_train_final, X_test_final, y_test_final = load_data(df_final, WINDOW_SIZE, 1)\n",
    "p_final = model.predict(X_train_final)"
   ]
  },
  {
   "cell_type": "code",
   "execution_count": 121,
   "metadata": {},
   "outputs": [],
   "source": [
    "df_result = pd.DataFrame(df_final['pm1'])\n",
    "\n",
    "p_final_interpolated = df_final['pm1'][0:WINDOW_SIZE + 1].values\n",
    "p_final_interpolated = np.append(p_final_interpolated, p_final.reshape(1, -1)[0])\n",
    "df_result.columns = ['Actual']\n",
    "df_result['Predicted'] = p_final_interpolated.reshape(-1, 1)\n",
    "\n",
    "df_result.to_csv('data/lstm_output_Taft Ave._2015.csv')"
   ]
  }
 ],
 "metadata": {
  "_change_revision": 0,
  "_is_fork": false,
  "kernelspec": {
   "display_name": "Python 3",
   "language": "python",
   "name": "python3"
  },
  "language_info": {
   "codemirror_mode": {
    "name": "ipython",
    "version": 3
   },
   "file_extension": ".py",
   "mimetype": "text/x-python",
   "name": "python",
   "nbconvert_exporter": "python",
   "pygments_lexer": "ipython3",
   "version": "3.6.4"
  }
 },
 "nbformat": 4,
 "nbformat_minor": 1
}
